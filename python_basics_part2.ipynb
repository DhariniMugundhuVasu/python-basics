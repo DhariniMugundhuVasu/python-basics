{
  "nbformat": 4,
  "nbformat_minor": 0,
  "metadata": {
    "colab": {
      "provenance": []
    },
    "kernelspec": {
      "name": "python3",
      "display_name": "Python 3"
    },
    "language_info": {
      "name": "python"
    }
  },
  "cells": [
    {
      "cell_type": "markdown",
      "source": [
        "find the largest number among the\n",
        "three input numbers"
      ],
      "metadata": {
        "id": "CWwOEIsop3pO"
      }
    },
    {
      "cell_type": "code",
      "execution_count": 1,
      "metadata": {
        "colab": {
          "base_uri": "https://localhost:8080/"
        },
        "id": "UaHjQMrAo-6z",
        "outputId": "96937686-dbe9-4c07-ca31-043c5e8c13f5"
      },
      "outputs": [
        {
          "output_type": "stream",
          "name": "stdout",
          "text": [
            "Enter first number: 12\n",
            "Enter second number: 88\n",
            "Enter third number: 9999\n",
            "The largest number is 9999.0\n"
          ]
        }
      ],
      "source": [
        "n1 = float(input(\"Enter first number: \"))\n",
        "n2 = float(input(\"Enter second number: \"))\n",
        "n3 = float(input(\"Enter third number: \"))\n",
        "if (n1 >= n2) and (n1 >= n3):\n",
        " largest = n1\n",
        "elif (n2 >= n1) and (n2 >= n3):\n",
        " largest = n2\n",
        "else:\n",
        " largest = n3\n",
        "print(\"The largest number is\", largest)"
      ]
    },
    {
      "cell_type": "markdown",
      "source": [
        "to print current date"
      ],
      "metadata": {
        "id": "RRaZXSNQqL6A"
      }
    },
    {
      "cell_type": "code",
      "source": [
        "from datetime import date\n",
        "# today() to get current date\n",
        "t_date = date.today()\n",
        "print(\"Today's date =\", t_date)\n"
      ],
      "metadata": {
        "colab": {
          "base_uri": "https://localhost:8080/"
        },
        "id": "Y98TvkBcqaYO",
        "outputId": "e9a4532d-e579-4839-be0a-56a0860147b5"
      },
      "execution_count": 2,
      "outputs": [
        {
          "output_type": "stream",
          "name": "stdout",
          "text": [
            "Today's date = 2023-11-29\n"
          ]
        }
      ]
    },
    {
      "cell_type": "markdown",
      "source": [
        "the element is present in list or not"
      ],
      "metadata": {
        "id": "KM9PsEbIqsec"
      }
    },
    {
      "cell_type": "code",
      "source": [
        "l=[ 10, 16, 13, 51, 30, 44 ]\n",
        "#checking if element 7 is present\n",
        "# in the given list or not\n",
        "i=7\n",
        "# if element present then return\n",
        "# exist otherwise not exist\n",
        "if i in l:\n",
        " print(\"exist\")\n",
        "else:\n",
        " print(\"not exist\")"
      ],
      "metadata": {
        "colab": {
          "base_uri": "https://localhost:8080/"
        },
        "id": "R6WZDDDhrBEM",
        "outputId": "40e043ef-c815-4273-9665-b57c97ea12fe"
      },
      "execution_count": 7,
      "outputs": [
        {
          "output_type": "stream",
          "name": "stdout",
          "text": [
            "not exist\n"
          ]
        }
      ]
    },
    {
      "cell_type": "markdown",
      "source": [
        "Reversing a list"
      ],
      "metadata": {
        "id": "6U95CbbwrYct"
      }
    },
    {
      "cell_type": "code",
      "source": [
        "def Reverse(lt):\n",
        " new_lt = lt[::-1]\n",
        " return new_lt\n",
        "lt = [100, 118, 120, 103, 114, 145]\n",
        "print(Reverse(lt))"
      ],
      "metadata": {
        "colab": {
          "base_uri": "https://localhost:8080/"
        },
        "id": "yXllEV4Gri86",
        "outputId": "cf09938f-5a8c-464e-aa16-14cafaa87151"
      },
      "execution_count": 6,
      "outputs": [
        {
          "output_type": "stream",
          "name": "stdout",
          "text": [
            "[145, 114, 103, 120, 118, 100]\n"
          ]
        }
      ]
    },
    {
      "cell_type": "markdown",
      "source": [
        " to Merge the theory\n",
        "and practical marks of the students\n"
      ],
      "metadata": {
        "id": "7f1KjeM8sMqs"
      }
    },
    {
      "cell_type": "code",
      "source": [
        "m= {'Physics':67, 'Maths':87}\n",
        "int_m = {'Practical':48}\n",
        "m.update(int_m)\n",
        "print(m)"
      ],
      "metadata": {
        "colab": {
          "base_uri": "https://localhost:8080/"
        },
        "id": "mXPgMnsNr6WZ",
        "outputId": "38ad69db-627c-4ea9-f76d-f93b52e56b17"
      },
      "execution_count": 8,
      "outputs": [
        {
          "output_type": "stream",
          "name": "stdout",
          "text": [
            "{'Physics': 67, 'Maths': 87, 'Practical': 48}\n"
          ]
        }
      ]
    },
    {
      "cell_type": "markdown",
      "source": [
        "Pattern Printing"
      ],
      "metadata": {
        "id": "MDFDtzrFsrUF"
      }
    },
    {
      "cell_type": "code",
      "source": [
        "a = 9\n",
        "for i in range(0, a):\n",
        " for j in range(0, i+2):\n",
        "  print(\"*\", end=\" \")\n",
        " print()\n"
      ],
      "metadata": {
        "colab": {
          "base_uri": "https://localhost:8080/"
        },
        "id": "l5eZXsrQtqPq",
        "outputId": "30e59247-53fb-4fcf-b2aa-d3ee7deddb5b"
      },
      "execution_count": 14,
      "outputs": [
        {
          "output_type": "stream",
          "name": "stdout",
          "text": [
            "* * \n",
            "* * * \n",
            "* * * * \n",
            "* * * * * \n",
            "* * * * * * \n",
            "* * * * * * * \n",
            "* * * * * * * * \n",
            "* * * * * * * * * \n",
            "* * * * * * * * * * \n"
          ]
        }
      ]
    }
  ]
}