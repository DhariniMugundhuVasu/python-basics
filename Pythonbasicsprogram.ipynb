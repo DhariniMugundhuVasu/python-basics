{
  "nbformat": 4,
  "nbformat_minor": 0,
  "metadata": {
    "colab": {
      "provenance": []
    },
    "kernelspec": {
      "name": "python3",
      "display_name": "Python 3"
    },
    "language_info": {
      "name": "python"
    }
  },
  "cells": [
    {
      "cell_type": "code",
      "execution_count": null,
      "metadata": {
        "colab": {
          "base_uri": "https://localhost:8080/"
        },
        "id": "hxeENJklNEW_",
        "outputId": "02050479-ccbb-4d75-eb77-259434b29937"
      },
      "outputs": [
        {
          "output_type": "stream",
          "name": "stdout",
          "text": [
            "enter a value 10\n",
            "enter b value5\n",
            "addition 15\n",
            "subtration 5\n",
            "multiplication 50\n",
            "divition 2.0\n"
          ]
        }
      ],
      "source": [
        "a = int(input('enter a value '))\n",
        "b = int(input('enter b value'))\n",
        "c = a + b\n",
        "d = a - b\n",
        "e = a * b\n",
        "f = a / b\n",
        "print('addition', c)\n",
        "print('subtration', d)\n",
        "print('multiplication', e)\n",
        "print('divition', f)\n"
      ]
    },
    {
      "cell_type": "markdown",
      "source": [
        "This is the simple calculator program"
      ],
      "metadata": {
        "id": "s4lyzrRNSJ4Y"
      }
    },
    {
      "cell_type": "code",
      "source": [
        "True and  True"
      ],
      "metadata": {
        "colab": {
          "base_uri": "https://localhost:8080/"
        },
        "id": "i2HFNpT7SRht",
        "outputId": "f161abe2-52b0-4aef-8787-6661dbe71e4d"
      },
      "execution_count": null,
      "outputs": [
        {
          "output_type": "execute_result",
          "data": {
            "text/plain": [
              "True"
            ]
          },
          "metadata": {},
          "execution_count": 15
        }
      ]
    },
    {
      "cell_type": "markdown",
      "source": [
        "Two input logic gates"
      ],
      "metadata": {
        "id": "FWNAqHQFSc2W"
      }
    },
    {
      "cell_type": "code",
      "source": [
        "True and True or False"
      ],
      "metadata": {
        "colab": {
          "base_uri": "https://localhost:8080/"
        },
        "id": "cEXntk6nShBu",
        "outputId": "fccb5274-5a79-4ee4-c658-63ca151d635a"
      },
      "execution_count": null,
      "outputs": [
        {
          "output_type": "execute_result",
          "data": {
            "text/plain": [
              "True"
            ]
          },
          "metadata": {},
          "execution_count": 16
        }
      ]
    },
    {
      "cell_type": "markdown",
      "source": [
        "Three input logic gates"
      ],
      "metadata": {
        "id": "hwp-TIi-S0XH"
      }
    },
    {
      "cell_type": "code",
      "source": [
        "string = \"OQYWFClFhFGAvIWYwGKpmZhnJiyzTslSIhSwvOsqJMEphzmifTkyqOMNpnOtXZxmCfgDYqbaBHAUvIWhMnvwZnEMVDvmEfLrDoQnAZgQEgXQVnmSYkfedpAdhrtpOgORpYLRZYGWdhWYuqQssCUXtTzKRDAhpjUheOzUroZNzWFtZOVwIapzUYtbSbjYNErzQ\""
      ],
      "metadata": {
        "id": "qhHntXZNS5rh"
      },
      "execution_count": null,
      "outputs": []
    },
    {
      "cell_type": "markdown",
      "source": [
        "Calculate the number of characters in the string\n",
        "**193**\n",
        "200\n",
        "300\n",
        "500"
      ],
      "metadata": {
        "id": "1Wsa43jCT6y4"
      }
    },
    {
      "cell_type": "code",
      "source": [
        "len(string)"
      ],
      "metadata": {
        "colab": {
          "base_uri": "https://localhost:8080/"
        },
        "id": "8plqaF1jT8QO",
        "outputId": "266a0fa6-e6a8-4dde-e78c-c0641631462f"
      },
      "execution_count": null,
      "outputs": [
        {
          "output_type": "execute_result",
          "data": {
            "text/plain": [
              "193"
            ]
          },
          "metadata": {},
          "execution_count": 18
        }
      ]
    },
    {
      "cell_type": "code",
      "source": [
        "string.count('a')"
      ],
      "metadata": {
        "colab": {
          "base_uri": "https://localhost:8080/"
        },
        "id": "RDOwY_uqU2Vm",
        "outputId": "5a44d048-408d-4560-e0de-34ac132360f4"
      },
      "execution_count": null,
      "outputs": [
        {
          "output_type": "execute_result",
          "data": {
            "text/plain": [
              "2"
            ]
          },
          "metadata": {},
          "execution_count": 27
        }
      ]
    },
    {
      "cell_type": "markdown",
      "source": [
        "Count the number of occurences of 'a' in the string\n",
        "1\n",
        "**2**\n",
        "10\n",
        "5"
      ],
      "metadata": {
        "id": "lIue6zvAaCy2"
      }
    },
    {
      "cell_type": "code",
      "source": [
        "if (string[0:2] == \"if\"):\n",
        "  print('true')\n",
        "else:\n",
        "  print('false')\n"
      ],
      "metadata": {
        "colab": {
          "base_uri": "https://localhost:8080/"
        },
        "id": "IEqsGTVkaIhV",
        "outputId": "6f298ec8-2512-4a62-c0c3-9ffc6f22b21b"
      },
      "execution_count": null,
      "outputs": [
        {
          "output_type": "stream",
          "name": "stdout",
          "text": [
            "false\n"
          ]
        }
      ]
    },
    {
      "cell_type": "markdown",
      "source": [
        "Identify whether the string starts with 'if'.\n",
        "True\n",
        "False"
      ],
      "metadata": {
        "id": "ctnVDJDXcmd3"
      }
    },
    {
      "cell_type": "code",
      "source": [
        "string[63:89]"
      ],
      "metadata": {
        "colab": {
          "base_uri": "https://localhost:8080/",
          "height": 35
        },
        "id": "kGaO3j6rcpM3",
        "outputId": "27bdac56-9c1d-4286-8a76-8f15f38973b5"
      },
      "execution_count": null,
      "outputs": [
        {
          "output_type": "execute_result",
          "data": {
            "text/plain": [
              "'mCfgDYqbaBHAUvIWhMnvwZnEMV'"
            ],
            "application/vnd.google.colaboratory.intrinsic+json": {
              "type": "string"
            }
          },
          "metadata": {},
          "execution_count": 42
        }
      ]
    },
    {
      "cell_type": "markdown",
      "source": [
        "Return the substring starting at index 63 and ending at index 88 [Both the indexes are inclusive]\n",
        "'OQYWFClFhFGA'\n",
        "**'mCfgDYqbaBHAUvIWhMnvwZnEMV'**\n",
        "'IWYwGKpmZhnJiyzTslSIhSwv'\n",
        "'JMEphzmifTkyqOMNpnOtXZ'"
      ],
      "metadata": {
        "id": "Grdhsu5GdbBs"
      }
    },
    {
      "cell_type": "markdown",
      "source": [
        "Identify the character at index 45\n",
        "a\n",
        "b\n",
        "**z**\n",
        "x"
      ],
      "metadata": {
        "id": "fgRGIaSZWbVl"
      }
    },
    {
      "cell_type": "code",
      "source": [
        "string[45]"
      ],
      "metadata": {
        "colab": {
          "base_uri": "https://localhost:8080/",
          "height": 35
        },
        "id": "AjvdSEXJWdjU",
        "outputId": "bd2ebc64-7d1d-4dfc-a9eb-9135cd057cc8"
      },
      "execution_count": null,
      "outputs": [
        {
          "output_type": "execute_result",
          "data": {
            "text/plain": [
              "'z'"
            ],
            "application/vnd.google.colaboratory.intrinsic+json": {
              "type": "string"
            }
          },
          "metadata": {},
          "execution_count": 25
        }
      ]
    }
  ]
}