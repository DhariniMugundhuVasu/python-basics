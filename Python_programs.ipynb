{
  "nbformat": 4,
  "nbformat_minor": 0,
  "metadata": {
    "colab": {
      "provenance": []
    },
    "kernelspec": {
      "name": "python3",
      "display_name": "Python 3"
    },
    "language_info": {
      "name": "python"
    }
  },
  "cells": [
    {
      "cell_type": "code",
      "execution_count": null,
      "metadata": {
        "colab": {
          "base_uri": "https://localhost:8080/"
        },
        "id": "OZG34AUfa_27",
        "outputId": "b1bd75f7-3f35-4539-aa06-dddc641244d4"
      },
      "outputs": [
        {
          "output_type": "stream",
          "name": "stdout",
          "text": [
            "breadth of triangle\n",
            "21.5\n",
            "height of triangle\n",
            "20\n",
            "areaof triangle\n",
            " 215.0\n"
          ]
        }
      ],
      "source": [
        "b=float(input('breadth of triangle\\n'))\n",
        "h=float(input('height of triangle\\n'))\n",
        "a=b*h/2\n",
        "print('areaof triangle\\n',a)"
      ]
    },
    {
      "cell_type": "markdown",
      "source": [
        "above is the area of triangle program"
      ],
      "metadata": {
        "id": "9_oLW20tcT2l"
      }
    },
    {
      "cell_type": "code",
      "source": [
        "x=15\n",
        "y=20\n",
        "t=x\n",
        "x=y\n",
        "y=t\n",
        "print('swapped x \\n',x)\n",
        "print('swapped y \\n',y)"
      ],
      "metadata": {
        "colab": {
          "base_uri": "https://localhost:8080/"
        },
        "id": "DB9DXSNScafJ",
        "outputId": "a722a9f3-59be-4383-b630-a179d71a2e0b"
      },
      "execution_count": null,
      "outputs": [
        {
          "output_type": "stream",
          "name": "stdout",
          "text": [
            "swapped x \n",
            " 20\n",
            "swapped y \n",
            " 15\n"
          ]
        }
      ]
    },
    {
      "cell_type": "markdown",
      "source": [
        "to swap two variables"
      ],
      "metadata": {
        "id": "0osj5GmNdSVj"
      }
    },
    {
      "cell_type": "code",
      "source": [
        "ye=int(input('enter the year:\\n'))\n",
        "if(ye%4==0):\n",
        "  print(\"leap year\")\n",
        "else:\n",
        "  print(\"not leap year\")\n"
      ],
      "metadata": {
        "colab": {
          "base_uri": "https://localhost:8080/"
        },
        "id": "axVC2peRdWyb",
        "outputId": "c23156b6-9716-48f8-a579-47b459bb241e"
      },
      "execution_count": null,
      "outputs": [
        {
          "output_type": "stream",
          "name": "stdout",
          "text": [
            "enter the year:\n",
            "2000\n",
            "leap year\n"
          ]
        }
      ]
    },
    {
      "cell_type": "markdown",
      "source": [
        "to check leap year"
      ],
      "metadata": {
        "id": "SVs3QYXHfZog"
      }
    },
    {
      "cell_type": "code",
      "source": [
        "pn=int(input('enter number'))\n",
        "primeind='yes'\n",
        "for i in range (2,pn,1):\n",
        "  if (pn%i == 0):\n",
        "    primeind='no'\n",
        "    break\n",
        "if primeind=='yes':\n",
        "  print('primenumber')\n",
        "else:\n",
        "  print('not a prime number')"
      ],
      "metadata": {
        "colab": {
          "base_uri": "https://localhost:8080/"
        },
        "id": "OfWhBzNffczm",
        "outputId": "389f7cb5-dbff-45a9-9f02-6bb4aa95150e"
      },
      "execution_count": null,
      "outputs": [
        {
          "output_type": "stream",
          "name": "stdout",
          "text": [
            "enter number15\n",
            "not a prime number\n"
          ]
        }
      ]
    },
    {
      "cell_type": "markdown",
      "source": [
        "prime number"
      ],
      "metadata": {
        "id": "CxIPos_zK3il"
      }
    },
    {
      "cell_type": "code",
      "source": [
        "num = 6\n",
        "if num < 0:\n",
        "    print ('Factorial does not exist')\n",
        "elif num == 0:\n",
        "    print(1)\n",
        "else:\n",
        "    fact = 1\n",
        "    for i in range (1, num + 1):\n",
        "        fact = fact * i\n",
        "    print(fact)"
      ],
      "metadata": {
        "colab": {
          "base_uri": "https://localhost:8080/"
        },
        "id": "x6-OxhZGK6N3",
        "outputId": "e045fa72-f3a9-4856-f8f2-dcdc74479872"
      },
      "execution_count": null,
      "outputs": [
        {
          "output_type": "stream",
          "name": "stdout",
          "text": [
            "720\n"
          ]
        }
      ]
    },
    {
      "cell_type": "markdown",
      "source": [
        "factorial of 6"
      ],
      "metadata": {
        "id": "q7eeJPH_Lfpm"
      }
    },
    {
      "cell_type": "code",
      "source": [
        "no=int(input('enter number'))\n",
        "for i in range(1,16):\n",
        "  print(no,'x',i,'=',no*i)"
      ],
      "metadata": {
        "colab": {
          "base_uri": "https://localhost:8080/"
        },
        "id": "yP0q5CxxMIld",
        "outputId": "7cc8d01a-edc7-44ee-8754-1439f6691674"
      },
      "execution_count": null,
      "outputs": [
        {
          "output_type": "stream",
          "name": "stdout",
          "text": [
            "enter number10\n",
            "10 x 1 = 10\n",
            "10 x 2 = 20\n",
            "10 x 3 = 30\n",
            "10 x 4 = 40\n",
            "10 x 5 = 50\n",
            "10 x 6 = 60\n",
            "10 x 7 = 70\n",
            "10 x 8 = 80\n",
            "10 x 9 = 90\n",
            "10 x 10 = 100\n",
            "10 x 11 = 110\n",
            "10 x 12 = 120\n",
            "10 x 13 = 130\n",
            "10 x 14 = 140\n",
            "10 x 15 = 150\n"
          ]
        }
      ]
    },
    {
      "cell_type": "markdown",
      "source": [
        "nos btw 1 to n"
      ],
      "metadata": {
        "id": "ddoLaj25csMw"
      }
    },
    {
      "cell_type": "code",
      "source": [
        "n=int(input(\"enter the n value: \\n\"))\n",
        "for i in range(1,n+1):\n",
        "  print(i,end='')"
      ],
      "metadata": {
        "colab": {
          "base_uri": "https://localhost:8080/"
        },
        "id": "ti2wOue0crmm",
        "outputId": "a4be2e02-f37e-47ff-9118-1ef682a19ac0"
      },
      "execution_count": null,
      "outputs": [
        {
          "output_type": "stream",
          "name": "stdout",
          "text": [
            "enter the n value: \n",
            "9\n",
            "123456789"
          ]
        }
      ]
    },
    {
      "cell_type": "markdown",
      "source": [
        "sum of n nos."
      ],
      "metadata": {
        "id": "Xm04HO27fH6t"
      }
    },
    {
      "cell_type": "code",
      "source": [
        "ns=15\n",
        "sn=ns*(ns+1)/2\n",
        "print(\"sum of n numbers:  \",sn)"
      ],
      "metadata": {
        "colab": {
          "base_uri": "https://localhost:8080/"
        },
        "id": "CXp0O6whfNXb",
        "outputId": "892ae8ba-4208-44fd-ddac-7526af4c3cd4"
      },
      "execution_count": null,
      "outputs": [
        {
          "output_type": "stream",
          "name": "stdout",
          "text": [
            "sum of n numbers:   120.0\n"
          ]
        }
      ]
    },
    {
      "cell_type": "markdown",
      "source": [
        "palindrom of no."
      ],
      "metadata": {
        "id": "xpsjH9TbggXW"
      }
    },
    {
      "cell_type": "code",
      "source": [
        "paln = int(input(\"enter the no.:  \"))\n",
        "temp = paln\n",
        "reverse = 0\n",
        "while temp > 0:\n",
        "    remainder = temp % 10\n",
        "    reverse = (reverse * 10) + remainder\n",
        "    temp = temp // 10\n",
        "if paln == reverse:\n",
        "  print('Palindrome')\n",
        "else:\n",
        "  print(\"Not Palindrome\")"
      ],
      "metadata": {
        "colab": {
          "base_uri": "https://localhost:8080/"
        },
        "id": "EXJHvY7bBEUH",
        "outputId": "d60b31e5-5e95-4bad-c76a-35ab3933184c"
      },
      "execution_count": null,
      "outputs": [
        {
          "output_type": "stream",
          "name": "stdout",
          "text": [
            "enter the no.:  155\n",
            "Not Palindrome\n"
          ]
        }
      ]
    },
    {
      "cell_type": "markdown",
      "source": [
        "or we can also do like this"
      ],
      "metadata": {
        "id": "R0yAyLmxByQI"
      }
    },
    {
      "cell_type": "code",
      "source": [
        "palno = int(input(\"enter the no.:  \"))\n",
        "rev = int(str(palno)[::-1])\n",
        "if palno == rev:\n",
        "  print('Palindrome')\n",
        "else:\n",
        "  print(\"Not Palindrome\")"
      ],
      "metadata": {
        "colab": {
          "base_uri": "https://localhost:8080/"
        },
        "id": "MsfnB7BsB1Yf",
        "outputId": "d36ff759-b3d0-4b0f-dcae-ead117d18637"
      },
      "execution_count": null,
      "outputs": [
        {
          "output_type": "stream",
          "name": "stdout",
          "text": [
            "enter the no.:  144\n",
            "Not Palindrome\n"
          ]
        }
      ]
    },
    {
      "cell_type": "markdown",
      "source": [
        "Generate randome no."
      ],
      "metadata": {
        "id": "SAXXnnAHCt-6"
      }
    },
    {
      "cell_type": "code",
      "source": [
        "import random\n",
        "print(random.randint(0,88))"
      ],
      "metadata": {
        "colab": {
          "base_uri": "https://localhost:8080/"
        },
        "id": "G-ImEKceCtcd",
        "outputId": "869ae1c7-abb4-42e7-b0b5-5060b7d135cb"
      },
      "execution_count": null,
      "outputs": [
        {
          "output_type": "stream",
          "name": "stdout",
          "text": [
            "56\n"
          ]
        }
      ]
    },
    {
      "cell_type": "markdown",
      "source": [
        "convert kilometers to miles"
      ],
      "metadata": {
        "id": "i2kaD_WuDGu9"
      }
    },
    {
      "cell_type": "code",
      "source": [
        "km = int(input(\"enter the km:  \"))\n",
        "conv=0.62137\n",
        "m=km*conv\n",
        "print(km ,\"kilometers is equalto \",m ,\"miles\")"
      ],
      "metadata": {
        "colab": {
          "base_uri": "https://localhost:8080/"
        },
        "id": "noMTgd06DBMr",
        "outputId": "cb41c2b4-f82b-4e97-c76d-3160cf39566a"
      },
      "execution_count": null,
      "outputs": [
        {
          "output_type": "stream",
          "name": "stdout",
          "text": [
            "enter the km:  2\n",
            "2 kilometers is equalto  1.24274 miles\n"
          ]
        }
      ]
    },
    {
      "cell_type": "markdown",
      "source": [
        "add two matrics"
      ],
      "metadata": {
        "id": "HThrXRoWFFds"
      }
    },
    {
      "cell_type": "code",
      "source": [
        "import numpy as npy\n",
        "A =[[10,2,3],\n",
        "    [4,15,6],\n",
        "    [7,8,39]]\n",
        "B =[[29,8,7],\n",
        "    [6,45,4],\n",
        "    [3,2,51]]\n",
        "res = npy.array(A) + npy.array(B)\n",
        "print(res)"
      ],
      "metadata": {
        "colab": {
          "base_uri": "https://localhost:8080/"
        },
        "id": "ePZp10URGyDc",
        "outputId": "397243c0-8843-4747-fc18-ec12b6d5daa5"
      },
      "execution_count": null,
      "outputs": [
        {
          "output_type": "stream",
          "name": "stdout",
          "text": [
            "[[39 10 10]\n",
            " [10 60 10]\n",
            " [10 10 90]]\n"
          ]
        }
      ]
    },
    {
      "cell_type": "markdown",
      "source": [
        "concatenate 2 strings"
      ],
      "metadata": {
        "id": "WoZDEYbPM-vQ"
      }
    },
    {
      "cell_type": "code",
      "source": [
        "h = \"Hi\"\n",
        "j = \"MaM\"\n",
        "k = h + j\n",
        "print(k)"
      ],
      "metadata": {
        "colab": {
          "base_uri": "https://localhost:8080/"
        },
        "id": "Rr93Tr8ZNEH6",
        "outputId": "c0efc64c-19d0-4353-b6e5-d64f100fb0b0"
      },
      "execution_count": null,
      "outputs": [
        {
          "output_type": "stream",
          "name": "stdout",
          "text": [
            "HiMaM\n"
          ]
        }
      ]
    },
    {
      "cell_type": "markdown",
      "source": [
        "convert byte to string"
      ],
      "metadata": {
        "id": "F0GcU3VUNz9W"
      }
    },
    {
      "cell_type": "code",
      "source": [
        "S1 = \"Welcome\"\n",
        "print(type(S1))\n",
        "S2 = b\"Welcome\"\n",
        "print(type(S2))"
      ],
      "metadata": {
        "colab": {
          "base_uri": "https://localhost:8080/"
        },
        "id": "2jZVHdUgDnOW",
        "outputId": "eab7d14a-6751-4d60-f683-7c498f94bc1b"
      },
      "execution_count": null,
      "outputs": [
        {
          "output_type": "stream",
          "name": "stdout",
          "text": [
            "<class 'str'>\n",
            "<class 'bytes'>\n"
          ]
        }
      ]
    },
    {
      "cell_type": "markdown",
      "source": [
        "round no."
      ],
      "metadata": {
        "id": "LYXoj98sG11c"
      }
    },
    {
      "cell_type": "code",
      "source": [
        "r=float(input(\"enter the no.:  \"))\n",
        "rou=round(r)\n",
        "print(rou)"
      ],
      "metadata": {
        "colab": {
          "base_uri": "https://localhost:8080/"
        },
        "id": "gbNBZYtJGM6M",
        "outputId": "61abbd81-cc18-488f-c0d8-20e71e624326"
      },
      "execution_count": null,
      "outputs": [
        {
          "output_type": "stream",
          "name": "stdout",
          "text": [
            "enter the no.:  17.444\n",
            "17\n"
          ]
        }
      ]
    },
    {
      "cell_type": "markdown",
      "source": [
        "prime no in interval"
      ],
      "metadata": {
        "id": "rHWHoUdIHuCj"
      }
    },
    {
      "cell_type": "code",
      "source": [
        "s=int(input(\"start value: \"))\n",
        "e=int(input(\"end value: \"))\n",
        "for i in range(s,e+1):\n",
        "  if i>1:\n",
        "    for a in range(2,i):\n",
        "      if  (i % a) == 0:\n",
        "        break\n",
        "    else:\n",
        "      print(i)\n",
        "\n",
        "\n"
      ],
      "metadata": {
        "colab": {
          "base_uri": "https://localhost:8080/"
        },
        "id": "LCAI8NouigXA",
        "outputId": "c48a7723-8306-48e0-92ed-94c5774890fe"
      },
      "execution_count": null,
      "outputs": [
        {
          "output_type": "stream",
          "name": "stdout",
          "text": [
            "start value: 2\n",
            "end value: 60\n",
            "2\n",
            "3\n",
            "5\n",
            "7\n",
            "11\n",
            "13\n",
            "17\n",
            "19\n",
            "23\n",
            "29\n",
            "31\n",
            "37\n",
            "41\n",
            "43\n",
            "47\n",
            "53\n",
            "59\n"
          ]
        }
      ]
    },
    {
      "cell_type": "markdown",
      "source": [
        "Fibonacci series"
      ],
      "metadata": {
        "id": "WMQdtpkW05pq"
      }
    },
    {
      "cell_type": "code",
      "source": [
        "fn=int(input(\"enter the range for series  \"))\n",
        "fn1,fn2=0,1\n",
        "print(fn1,fn2,end='')\n",
        "for i in range(2,fn):\n",
        "  fn3=fn1+fn2\n",
        "  fn1=fn2\n",
        "  fn2=fn3\n",
        "  print(fn3,end='')\n",
        "print()\n"
      ],
      "metadata": {
        "colab": {
          "base_uri": "https://localhost:8080/"
        },
        "id": "RAsUSwTe04uD",
        "outputId": "92d4d45f-d92e-4b7b-83e3-daa4d0dceb88"
      },
      "execution_count": null,
      "outputs": [
        {
          "output_type": "stream",
          "name": "stdout",
          "text": [
            "enter the range for series  10\n",
            "0 112358132134\n"
          ]
        }
      ]
    },
    {
      "cell_type": "markdown",
      "source": [
        "compound interest"
      ],
      "metadata": {
        "id": "kROfMTBSvpJd"
      }
    },
    {
      "cell_type": "code",
      "source": [
        "import math\n",
        "p=float(input(\"Enter Principal Amount: \"))\n",
        "r=float(input(\"Enter Rate of Interest: \"))\n",
        "t=float(input(\"Enter Time Period in years: \"))\n",
        "amt = p * (math.pow((1 + (r/100)),t))\n",
        "print(\"Compound Amount: \",amt)\n",
        "CI = amt - p\n",
        "print(\"Compound Interest\", CI)"
      ],
      "metadata": {
        "colab": {
          "base_uri": "https://localhost:8080/"
        },
        "id": "0NG_Z-Clu6BP",
        "outputId": "dc34c378-7139-4643-8db1-e076a0a31f8f"
      },
      "execution_count": null,
      "outputs": [
        {
          "output_type": "stream",
          "name": "stdout",
          "text": [
            "Enter Principal Amount: 20000\n",
            "Enter Rate of Interest: 2.7\n",
            "Enter Time Period in years: 2\n",
            "Compound Amount:  21094.579999999994\n",
            "Compound Interest 1094.5799999999945\n"
          ]
        }
      ]
    },
    {
      "cell_type": "markdown",
      "source": [
        "Armstrong  no"
      ],
      "metadata": {
        "id": "IIox6TuTxv_Q"
      }
    },
    {
      "cell_type": "code",
      "source": [
        "number = int(input(\"enter the no:  \"))\n",
        "temp = number\n",
        "add_sum = 0\n",
        "while temp != 0:\n",
        "    k = temp % 10\n",
        "    add_sum += k*k*k\n",
        "    temp = temp//10\n",
        "if add_sum == number:\n",
        "    print('Given number is a three-digit Armstrong Number')\n",
        "else:\n",
        "    print('Given number is not an Armstrong Number')"
      ],
      "metadata": {
        "colab": {
          "base_uri": "https://localhost:8080/"
        },
        "id": "gsUTChK5yuqm",
        "outputId": "3415db27-2b36-4921-8728-8aeb33437bc7"
      },
      "execution_count": null,
      "outputs": [
        {
          "output_type": "stream",
          "name": "stdout",
          "text": [
            "enter the no:  233\n",
            "Given number is not an Armstrong Number\n"
          ]
        }
      ]
    },
    {
      "cell_type": "markdown",
      "source": [],
      "metadata": {
        "id": "gfnaeatazbvS"
      }
    }
  ]
}